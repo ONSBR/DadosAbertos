{
 "cells": [
  {
   "cell_type": "code",
   "execution_count": null,
   "id": "bf622141-823a-4720-9119-d893015db6cd",
   "metadata": {},
   "outputs": [],
   "source": []
  },
  {
   "cell_type": "code",
   "execution_count": 1,
   "id": "aba97142-fe25-447b-988d-7a52d4fdf0b3",
   "metadata": {},
   "outputs": [],
   "source": [
    "from urllib import request\n",
    "import pandas as  pd\n",
    "import numpy as np"
   ]
  },
  {
   "cell_type": "code",
   "execution_count": 2,
   "id": "5e1258c9-4bf1-4a34-bcfc-14465eedcba4",
   "metadata": {},
   "outputs": [],
   "source": [
    "#### <span style=\"color:blue\"> 1. Download do Dataset do Portal de Dados Abertos </span>"
   ]
  },
  {
   "cell_type": "code",
   "execution_count": 2,
   "id": "1b366b81-b9f2-4b81-81c3-fecaccf49e87",
   "metadata": {},
   "outputs": [
    {
     "data": {
      "text/plain": [
       "('LINHA_TRANSMISSAO.csv', <http.client.HTTPMessage at 0x2ade9052740>)"
      ]
     },
     "execution_count": 2,
     "metadata": {},
     "output_type": "execute_result"
    }
   ],
   "source": [
    "file_url = 'https://ons-dl-prod-opendata.s3.amazonaws.com/dataset/linha_transmissao/LINHA_TRANSMISSAO.csv'\n",
    "source_file = 'LINHA_TRANSMISSAO.csv'\n",
    "request.urlretrieve(file_url , source_file )"
   ]
  },
  {
   "cell_type": "code",
   "execution_count": 4,
   "id": "f9ac2e59-a882-479d-a213-1f4bc8c782ee",
   "metadata": {},
   "outputs": [
    {
     "name": "stdout",
     "output_type": "stream",
     "text": [
      "shape: (2134, 19)\n",
      "columns: Index(['id_subsistema_terminalde', 'nom_subsistema_terminalde',\n",
      "       'id_subsistema_terminalpara', 'nom_subsistema_terminalpara',\n",
      "       'id_estado_terminalde', 'nom_estado_de', 'id_estado_terminalpara',\n",
      "       'nom_estado_para', 'nom_subestacao_de', 'nom_subestacao_para',\n",
      "       'val_niveltensao_kv', 'nom_tipoderede', 'nom_tipolinha',\n",
      "       'nom_agenteproprietario', 'nom_linhadetransmissao', 'cod_equipamento',\n",
      "       'dat_entradaoperacao', 'dat_desativacao', 'val_comprimento'],\n",
      "      dtype='object')\n"
     ]
    }
   ],
   "source": [
    "dataframe = pd.read_csv(source_file, sep=';',encoding = \"utf-8\")\n",
    "\n",
    "if (dataframe.empty) :\n",
    "    print('DATAFRAME VAZIO')\n",
    "else:\n",
    "  print('shape:', dataframe.shape)\n",
    "  print('columns:', dataframe.columns)"
   ]
  },
  {
   "cell_type": "code",
   "execution_count": 7,
   "id": "282edee2-cf9f-4ded-a042-03bdd8c6d04e",
   "metadata": {},
   "outputs": [
    {
     "data": {
      "text/plain": [
       "id_subsistema_terminalde        object\n",
       "nom_subsistema_terminalde       object\n",
       "id_subsistema_terminalpara      object\n",
       "nom_subsistema_terminalpara     object\n",
       "id_estado_terminalde            object\n",
       "nom_estado_de                   object\n",
       "id_estado_terminalpara          object\n",
       "nom_estado_para                 object\n",
       "nom_subestacao_de               object\n",
       "nom_subestacao_para             object\n",
       "val_niveltensao_kv             float64\n",
       "nom_tipoderede                  object\n",
       "nom_tipolinha                   object\n",
       "nom_agenteproprietario          object\n",
       "nom_linhadetransmissao          object\n",
       "cod_equipamento                 object\n",
       "dat_entradaoperacao             object\n",
       "dat_desativacao                 object\n",
       "val_comprimento                float64\n",
       "dtype: object"
      ]
     },
     "execution_count": 7,
     "metadata": {},
     "output_type": "execute_result"
    }
   ],
   "source": [
    "#descobrir os tipos de dados\n",
    "dataframe.dtypes"
   ]
  },
  {
   "cell_type": "code",
   "execution_count": 5,
   "id": "f9564c25-0f82-42a4-99c4-b7be504701ac",
   "metadata": {},
   "outputs": [
    {
     "data": {
      "text/html": [
       "<div>\n",
       "<style scoped>\n",
       "    .dataframe tbody tr th:only-of-type {\n",
       "        vertical-align: middle;\n",
       "    }\n",
       "\n",
       "    .dataframe tbody tr th {\n",
       "        vertical-align: top;\n",
       "    }\n",
       "\n",
       "    .dataframe thead th {\n",
       "        text-align: right;\n",
       "    }\n",
       "</style>\n",
       "<table border=\"1\" class=\"dataframe\">\n",
       "  <thead>\n",
       "    <tr style=\"text-align: right;\">\n",
       "      <th></th>\n",
       "      <th>id_subsistema_terminalde</th>\n",
       "      <th>nom_subsistema_terminalde</th>\n",
       "      <th>id_subsistema_terminalpara</th>\n",
       "      <th>nom_subsistema_terminalpara</th>\n",
       "      <th>id_estado_terminalde</th>\n",
       "      <th>nom_estado_de</th>\n",
       "      <th>id_estado_terminalpara</th>\n",
       "      <th>nom_estado_para</th>\n",
       "      <th>nom_subestacao_de</th>\n",
       "      <th>nom_subestacao_para</th>\n",
       "      <th>val_niveltensao_kv</th>\n",
       "      <th>nom_tipoderede</th>\n",
       "      <th>nom_tipolinha</th>\n",
       "      <th>nom_agenteproprietario</th>\n",
       "      <th>nom_linhadetransmissao</th>\n",
       "      <th>cod_equipamento</th>\n",
       "      <th>dat_entradaoperacao</th>\n",
       "      <th>dat_desativacao</th>\n",
       "      <th>val_comprimento</th>\n",
       "    </tr>\n",
       "  </thead>\n",
       "  <tbody>\n",
       "    <tr>\n",
       "      <th>0</th>\n",
       "      <td>NE</td>\n",
       "      <td>NORDESTE</td>\n",
       "      <td>NE</td>\n",
       "      <td>NORDESTE</td>\n",
       "      <td>AL</td>\n",
       "      <td>ALAGOAS</td>\n",
       "      <td>AL</td>\n",
       "      <td>ALAGOAS</td>\n",
       "      <td>ARAPIRACA III</td>\n",
       "      <td>PENEDO</td>\n",
       "      <td>230.0</td>\n",
       "      <td>BASICA</td>\n",
       "      <td>LINHA DE TRANSMISSÃO</td>\n",
       "      <td>CHESF</td>\n",
       "      <td>LT  230 kV ARAPIRACA III        / PENEDO      ...</td>\n",
       "      <td>ALART-2PEN-1</td>\n",
       "      <td>2013-06-09</td>\n",
       "      <td>NaN</td>\n",
       "      <td>89.4</td>\n",
       "    </tr>\n",
       "    <tr>\n",
       "      <th>1</th>\n",
       "      <td>NE</td>\n",
       "      <td>NORDESTE</td>\n",
       "      <td>NE</td>\n",
       "      <td>NORDESTE</td>\n",
       "      <td>AL</td>\n",
       "      <td>ALAGOAS</td>\n",
       "      <td>AL</td>\n",
       "      <td>ALAGOAS</td>\n",
       "      <td>ARAPIRACA III</td>\n",
       "      <td>RIO LARGO II</td>\n",
       "      <td>230.0</td>\n",
       "      <td>BASICA</td>\n",
       "      <td>LINHA DE TRANSMISSÃO</td>\n",
       "      <td>CHESF</td>\n",
       "      <td>LT  230 kV ARAPIRACA III        / RIO LARGO II...</td>\n",
       "      <td>ALART-2RLD-1</td>\n",
       "      <td>2013-06-09</td>\n",
       "      <td>NaN</td>\n",
       "      <td>124.4</td>\n",
       "    </tr>\n",
       "    <tr>\n",
       "      <th>2</th>\n",
       "      <td>NE</td>\n",
       "      <td>NORDESTE</td>\n",
       "      <td>NE</td>\n",
       "      <td>NORDESTE</td>\n",
       "      <td>AL</td>\n",
       "      <td>ALAGOAS</td>\n",
       "      <td>AL</td>\n",
       "      <td>ALAGOAS</td>\n",
       "      <td>MESSIAS</td>\n",
       "      <td>MACEIO</td>\n",
       "      <td>230.0</td>\n",
       "      <td>BASICA</td>\n",
       "      <td>LINHA DE TRANSMISSÃO</td>\n",
       "      <td>CHESF</td>\n",
       "      <td>LT  230 kV MESSIAS              / MACEIO      ...</td>\n",
       "      <td>ALMSI-2MCO-1</td>\n",
       "      <td>2002-11-10</td>\n",
       "      <td>NaN</td>\n",
       "      <td>26.5</td>\n",
       "    </tr>\n",
       "  </tbody>\n",
       "</table>\n",
       "</div>"
      ],
      "text/plain": [
       "  id_subsistema_terminalde nom_subsistema_terminalde  \\\n",
       "0                       NE                  NORDESTE   \n",
       "1                       NE                  NORDESTE   \n",
       "2                       NE                  NORDESTE   \n",
       "\n",
       "  id_subsistema_terminalpara nom_subsistema_terminalpara id_estado_terminalde  \\\n",
       "0                         NE                    NORDESTE                   AL   \n",
       "1                         NE                    NORDESTE                   AL   \n",
       "2                         NE                    NORDESTE                   AL   \n",
       "\n",
       "  nom_estado_de id_estado_terminalpara nom_estado_para nom_subestacao_de  \\\n",
       "0       ALAGOAS                     AL         ALAGOAS     ARAPIRACA III   \n",
       "1       ALAGOAS                     AL         ALAGOAS     ARAPIRACA III   \n",
       "2       ALAGOAS                     AL         ALAGOAS           MESSIAS   \n",
       "\n",
       "  nom_subestacao_para  val_niveltensao_kv nom_tipoderede  \\\n",
       "0              PENEDO               230.0         BASICA   \n",
       "1        RIO LARGO II               230.0         BASICA   \n",
       "2              MACEIO               230.0         BASICA   \n",
       "\n",
       "          nom_tipolinha nom_agenteproprietario  \\\n",
       "0  LINHA DE TRANSMISSÃO                  CHESF   \n",
       "1  LINHA DE TRANSMISSÃO                  CHESF   \n",
       "2  LINHA DE TRANSMISSÃO                  CHESF   \n",
       "\n",
       "                              nom_linhadetransmissao cod_equipamento  \\\n",
       "0  LT  230 kV ARAPIRACA III        / PENEDO      ...    ALART-2PEN-1   \n",
       "1  LT  230 kV ARAPIRACA III        / RIO LARGO II...    ALART-2RLD-1   \n",
       "2  LT  230 kV MESSIAS              / MACEIO      ...    ALMSI-2MCO-1   \n",
       "\n",
       "  dat_entradaoperacao dat_desativacao  val_comprimento  \n",
       "0          2013-06-09             NaN             89.4  \n",
       "1          2013-06-09             NaN            124.4  \n",
       "2          2002-11-10             NaN             26.5  "
      ]
     },
     "execution_count": 5,
     "metadata": {},
     "output_type": "execute_result"
    }
   ],
   "source": [
    "dataframe.head(3)"
   ]
  },
  {
   "cell_type": "code",
   "execution_count": null,
   "id": "f5679956-42d8-4e49-8712-56e904bc11b5",
   "metadata": {},
   "outputs": [],
   "source": [
    "dataframe.select_dtypes(include='number').head()\n",
    "#selecionar colunas numericas"
   ]
  },
  {
   "cell_type": "code",
   "execution_count": null,
   "id": "a0dd1646-4dcd-4fbb-96ff-68668e5cf318",
   "metadata": {},
   "outputs": [],
   "source": []
  },
  {
   "cell_type": "code",
   "execution_count": null,
   "id": "f69a0ad7-e315-4a7a-83e8-506ae19659c2",
   "metadata": {},
   "outputs": [],
   "source": []
  }
 ],
 "metadata": {
  "kernelspec": {
   "display_name": "Python 3 (ipykernel)",
   "language": "python",
   "name": "python3"
  },
  "language_info": {
   "codemirror_mode": {
    "name": "ipython",
    "version": 3
   },
   "file_extension": ".py",
   "mimetype": "text/x-python",
   "name": "python",
   "nbconvert_exporter": "python",
   "pygments_lexer": "ipython3",
   "version": "3.10.4"
  }
 },
 "nbformat": 4,
 "nbformat_minor": 5
}
